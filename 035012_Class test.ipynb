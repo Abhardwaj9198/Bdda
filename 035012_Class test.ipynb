{
 "cells": [
  {
   "cell_type": "markdown",
   "id": "083c8b95",
   "metadata": {
    "deletable": false,
    "editable": false
   },
   "source": [
    "# FORE School of Management\n",
    "\n",
    "## Machine Learning with Python : Class Test\n",
    "## AY 2022-23 | Term 03 | PGDM | Faculty : Prof. Amarnath Mitra\n",
    "\n",
    "### Total Marks : 100 | Exam Duaration : 1.30 Hrs \n",
    "\n",
    "### Note\n",
    "### 1. Edit the Filename \"mlp_ct_qcap.ipynb\" to \"xxxx.ipynb\" where \"xxxx\" is Student Roll Number\n",
    "### 2. Answer as per the Instructions.\n",
    "### 3. Upload the Test File using the following link : https://drive.google.com/drive/folders/15KG5qbajSHSLW31SqkBrXLIlN8P7Xd2n?usp=share_link\n",
    "### -----------------------------------------------------------------------------------------------------------------------------------------------------------"
   ]
  },
  {
   "cell_type": "markdown",
   "id": "6f8c7fce",
   "metadata": {
    "deletable": false
   },
   "source": [
    "### Edit the Following Information with One's Name & Roll Number\n",
    "\n",
    "#### Student Name : Anmol Bhardwaj\n",
    "#### Student Roll Number : 035012\n",
    "\n",
    "### -----------------------------------------------------------------------------------------------------------------------------------------------------------"
   ]
  },
  {
   "cell_type": "markdown",
   "id": "8f1b2316",
   "metadata": {
    "deletable": false,
    "editable": false
   },
   "source": [
    "### Import the Required Libraries : Pandas, Numpy, Scipy, Statmodels, Matplotlib (or Seaborn)\n",
    "### -----------------------------------------------------------------------------------------------------------------------------------------------------------"
   ]
  },
  {
   "cell_type": "code",
   "execution_count": 1,
   "id": "ccec9f7a",
   "metadata": {
    "deletable": false
   },
   "outputs": [],
   "source": [
    "# Import Required Libraries\n",
    "import pandas as pd\n",
    "import numpy as np\n",
    "import statsmodels.api as sm\n",
    "import statsmodels.formula.api as smf\n",
    "import scipy.stats as sps\n",
    "from matplotlib import pyplot as plt"
   ]
  },
  {
   "cell_type": "markdown",
   "id": "af978d7e",
   "metadata": {
    "deletable": false,
    "editable": false
   },
   "source": [
    "### ---------------------------------------------------------------------------------------------------------------------------------------------------------"
   ]
  },
  {
   "cell_type": "markdown",
   "id": "5dbfbf7f",
   "metadata": {
    "deletable": false,
    "editable": false
   },
   "source": [
    "### Import Test Dataset & Create Student Specific Unique Dataset\n",
    "#### Data Link 1 (Stores_Info.csv) : https://drive.google.com/file/d/1XlRHVjnsGTkO4aHVjG_MWJTjMdXPe9BW/view?usp=sharing\n",
    "#### Data Link 2 (Sales_Info.csv) : https://drive.google.com/file/d/14ZJ1GgbtvG4r9YggI63DQlublsRhuKbk/view?usp=sharing"
   ]
  },
  {
   "cell_type": "code",
   "execution_count": null,
   "id": "1535411d",
   "metadata": {},
   "outputs": [],
   "source": [
    "b = r'C:\\Users\\manu1\\Downloads\\Sales_Info.csv'\n",
    "df1 = pd.read_csv(b)\n",
    "df1"
   ]
  },
  {
   "cell_type": "code",
   "execution_count": 7,
   "id": "3a865b28",
   "metadata": {
    "deletable": false
   },
   "outputs": [
    {
     "data": {
      "text/html": [
       "<div>\n",
       "<style scoped>\n",
       "    .dataframe tbody tr th:only-of-type {\n",
       "        vertical-align: middle;\n",
       "    }\n",
       "\n",
       "    .dataframe tbody tr th {\n",
       "        vertical-align: top;\n",
       "    }\n",
       "\n",
       "    .dataframe thead th {\n",
       "        text-align: right;\n",
       "    }\n",
       "</style>\n",
       "<table border=\"1\" class=\"dataframe\">\n",
       "  <thead>\n",
       "    <tr style=\"text-align: right;\">\n",
       "      <th></th>\n",
       "      <th>Store_Num</th>\n",
       "      <th>Store_Type</th>\n",
       "      <th>Store_Size</th>\n",
       "    </tr>\n",
       "  </thead>\n",
       "  <tbody>\n",
       "    <tr>\n",
       "      <th>0</th>\n",
       "      <td>1</td>\n",
       "      <td>A</td>\n",
       "      <td>151315</td>\n",
       "    </tr>\n",
       "    <tr>\n",
       "      <th>1</th>\n",
       "      <td>2</td>\n",
       "      <td>A</td>\n",
       "      <td>202307</td>\n",
       "    </tr>\n",
       "    <tr>\n",
       "      <th>2</th>\n",
       "      <td>3</td>\n",
       "      <td>B</td>\n",
       "      <td>37392</td>\n",
       "    </tr>\n",
       "    <tr>\n",
       "      <th>3</th>\n",
       "      <td>4</td>\n",
       "      <td>A</td>\n",
       "      <td>205863</td>\n",
       "    </tr>\n",
       "    <tr>\n",
       "      <th>4</th>\n",
       "      <td>5</td>\n",
       "      <td>B</td>\n",
       "      <td>34875</td>\n",
       "    </tr>\n",
       "    <tr>\n",
       "      <th>5</th>\n",
       "      <td>6</td>\n",
       "      <td>A</td>\n",
       "      <td>202505</td>\n",
       "    </tr>\n",
       "    <tr>\n",
       "      <th>6</th>\n",
       "      <td>7</td>\n",
       "      <td>B</td>\n",
       "      <td>70713</td>\n",
       "    </tr>\n",
       "    <tr>\n",
       "      <th>7</th>\n",
       "      <td>8</td>\n",
       "      <td>A</td>\n",
       "      <td>155078</td>\n",
       "    </tr>\n",
       "    <tr>\n",
       "      <th>8</th>\n",
       "      <td>9</td>\n",
       "      <td>B</td>\n",
       "      <td>125833</td>\n",
       "    </tr>\n",
       "    <tr>\n",
       "      <th>9</th>\n",
       "      <td>10</td>\n",
       "      <td>B</td>\n",
       "      <td>126512</td>\n",
       "    </tr>\n",
       "    <tr>\n",
       "      <th>10</th>\n",
       "      <td>11</td>\n",
       "      <td>A</td>\n",
       "      <td>207499</td>\n",
       "    </tr>\n",
       "    <tr>\n",
       "      <th>11</th>\n",
       "      <td>12</td>\n",
       "      <td>B</td>\n",
       "      <td>112238</td>\n",
       "    </tr>\n",
       "    <tr>\n",
       "      <th>12</th>\n",
       "      <td>13</td>\n",
       "      <td>A</td>\n",
       "      <td>219622</td>\n",
       "    </tr>\n",
       "    <tr>\n",
       "      <th>13</th>\n",
       "      <td>14</td>\n",
       "      <td>A</td>\n",
       "      <td>200898</td>\n",
       "    </tr>\n",
       "    <tr>\n",
       "      <th>14</th>\n",
       "      <td>15</td>\n",
       "      <td>B</td>\n",
       "      <td>123737</td>\n",
       "    </tr>\n",
       "    <tr>\n",
       "      <th>15</th>\n",
       "      <td>16</td>\n",
       "      <td>B</td>\n",
       "      <td>57197</td>\n",
       "    </tr>\n",
       "    <tr>\n",
       "      <th>16</th>\n",
       "      <td>17</td>\n",
       "      <td>B</td>\n",
       "      <td>93188</td>\n",
       "    </tr>\n",
       "    <tr>\n",
       "      <th>17</th>\n",
       "      <td>18</td>\n",
       "      <td>B</td>\n",
       "      <td>120653</td>\n",
       "    </tr>\n",
       "    <tr>\n",
       "      <th>18</th>\n",
       "      <td>19</td>\n",
       "      <td>A</td>\n",
       "      <td>203819</td>\n",
       "    </tr>\n",
       "    <tr>\n",
       "      <th>19</th>\n",
       "      <td>20</td>\n",
       "      <td>A</td>\n",
       "      <td>203742</td>\n",
       "    </tr>\n",
       "    <tr>\n",
       "      <th>20</th>\n",
       "      <td>21</td>\n",
       "      <td>B</td>\n",
       "      <td>140167</td>\n",
       "    </tr>\n",
       "    <tr>\n",
       "      <th>21</th>\n",
       "      <td>22</td>\n",
       "      <td>B</td>\n",
       "      <td>119557</td>\n",
       "    </tr>\n",
       "    <tr>\n",
       "      <th>22</th>\n",
       "      <td>23</td>\n",
       "      <td>B</td>\n",
       "      <td>114533</td>\n",
       "    </tr>\n",
       "    <tr>\n",
       "      <th>23</th>\n",
       "      <td>24</td>\n",
       "      <td>A</td>\n",
       "      <td>203819</td>\n",
       "    </tr>\n",
       "    <tr>\n",
       "      <th>24</th>\n",
       "      <td>25</td>\n",
       "      <td>B</td>\n",
       "      <td>128107</td>\n",
       "    </tr>\n",
       "    <tr>\n",
       "      <th>25</th>\n",
       "      <td>26</td>\n",
       "      <td>A</td>\n",
       "      <td>152513</td>\n",
       "    </tr>\n",
       "    <tr>\n",
       "      <th>26</th>\n",
       "      <td>27</td>\n",
       "      <td>A</td>\n",
       "      <td>204184</td>\n",
       "    </tr>\n",
       "    <tr>\n",
       "      <th>27</th>\n",
       "      <td>28</td>\n",
       "      <td>A</td>\n",
       "      <td>206302</td>\n",
       "    </tr>\n",
       "    <tr>\n",
       "      <th>28</th>\n",
       "      <td>29</td>\n",
       "      <td>B</td>\n",
       "      <td>93638</td>\n",
       "    </tr>\n",
       "    <tr>\n",
       "      <th>29</th>\n",
       "      <td>30</td>\n",
       "      <td>C</td>\n",
       "      <td>42988</td>\n",
       "    </tr>\n",
       "    <tr>\n",
       "      <th>30</th>\n",
       "      <td>31</td>\n",
       "      <td>A</td>\n",
       "      <td>203750</td>\n",
       "    </tr>\n",
       "    <tr>\n",
       "      <th>31</th>\n",
       "      <td>32</td>\n",
       "      <td>A</td>\n",
       "      <td>203007</td>\n",
       "    </tr>\n",
       "    <tr>\n",
       "      <th>32</th>\n",
       "      <td>33</td>\n",
       "      <td>A</td>\n",
       "      <td>39690</td>\n",
       "    </tr>\n",
       "    <tr>\n",
       "      <th>33</th>\n",
       "      <td>34</td>\n",
       "      <td>A</td>\n",
       "      <td>158114</td>\n",
       "    </tr>\n",
       "    <tr>\n",
       "      <th>34</th>\n",
       "      <td>35</td>\n",
       "      <td>B</td>\n",
       "      <td>103681</td>\n",
       "    </tr>\n",
       "    <tr>\n",
       "      <th>35</th>\n",
       "      <td>36</td>\n",
       "      <td>A</td>\n",
       "      <td>39910</td>\n",
       "    </tr>\n",
       "    <tr>\n",
       "      <th>36</th>\n",
       "      <td>37</td>\n",
       "      <td>C</td>\n",
       "      <td>39910</td>\n",
       "    </tr>\n",
       "    <tr>\n",
       "      <th>37</th>\n",
       "      <td>38</td>\n",
       "      <td>C</td>\n",
       "      <td>39690</td>\n",
       "    </tr>\n",
       "    <tr>\n",
       "      <th>38</th>\n",
       "      <td>39</td>\n",
       "      <td>A</td>\n",
       "      <td>184109</td>\n",
       "    </tr>\n",
       "    <tr>\n",
       "      <th>39</th>\n",
       "      <td>40</td>\n",
       "      <td>A</td>\n",
       "      <td>155083</td>\n",
       "    </tr>\n",
       "    <tr>\n",
       "      <th>40</th>\n",
       "      <td>41</td>\n",
       "      <td>A</td>\n",
       "      <td>196321</td>\n",
       "    </tr>\n",
       "    <tr>\n",
       "      <th>41</th>\n",
       "      <td>42</td>\n",
       "      <td>C</td>\n",
       "      <td>39690</td>\n",
       "    </tr>\n",
       "    <tr>\n",
       "      <th>42</th>\n",
       "      <td>43</td>\n",
       "      <td>C</td>\n",
       "      <td>41062</td>\n",
       "    </tr>\n",
       "    <tr>\n",
       "      <th>43</th>\n",
       "      <td>44</td>\n",
       "      <td>C</td>\n",
       "      <td>39910</td>\n",
       "    </tr>\n",
       "    <tr>\n",
       "      <th>44</th>\n",
       "      <td>45</td>\n",
       "      <td>B</td>\n",
       "      <td>118221</td>\n",
       "    </tr>\n",
       "  </tbody>\n",
       "</table>\n",
       "</div>"
      ],
      "text/plain": [
       "    Store_Num Store_Type  Store_Size\n",
       "0           1          A      151315\n",
       "1           2          A      202307\n",
       "2           3          B       37392\n",
       "3           4          A      205863\n",
       "4           5          B       34875\n",
       "5           6          A      202505\n",
       "6           7          B       70713\n",
       "7           8          A      155078\n",
       "8           9          B      125833\n",
       "9          10          B      126512\n",
       "10         11          A      207499\n",
       "11         12          B      112238\n",
       "12         13          A      219622\n",
       "13         14          A      200898\n",
       "14         15          B      123737\n",
       "15         16          B       57197\n",
       "16         17          B       93188\n",
       "17         18          B      120653\n",
       "18         19          A      203819\n",
       "19         20          A      203742\n",
       "20         21          B      140167\n",
       "21         22          B      119557\n",
       "22         23          B      114533\n",
       "23         24          A      203819\n",
       "24         25          B      128107\n",
       "25         26          A      152513\n",
       "26         27          A      204184\n",
       "27         28          A      206302\n",
       "28         29          B       93638\n",
       "29         30          C       42988\n",
       "30         31          A      203750\n",
       "31         32          A      203007\n",
       "32         33          A       39690\n",
       "33         34          A      158114\n",
       "34         35          B      103681\n",
       "35         36          A       39910\n",
       "36         37          C       39910\n",
       "37         38          C       39690\n",
       "38         39          A      184109\n",
       "39         40          A      155083\n",
       "40         41          A      196321\n",
       "41         42          C       39690\n",
       "42         43          C       41062\n",
       "43         44          C       39910\n",
       "44         45          B      118221"
      ]
     },
     "execution_count": 7,
     "metadata": {},
     "output_type": "execute_result"
    }
   ],
   "source": [
    "# Import Datasets\n",
    "\n",
    "url = 'https://drive.google.com/file/d/1XlRHVjnsGTkO4aHVjG_MWJTjMdXPe9BW/view?usp=sharing'\n",
    "file_id = url.split('/')[-2]\n",
    "\n",
    "path = 'https://drive.google.com/uc?id=' + file_id\n",
    "\n",
    "a = pd.read_csv(path); \n",
    "a # Dataset "
   ]
  },
  {
   "cell_type": "code",
   "execution_count": 8,
   "id": "79b8ef8b",
   "metadata": {},
   "outputs": [
    {
     "data": {
      "text/html": [
       "<div>\n",
       "<style scoped>\n",
       "    .dataframe tbody tr th:only-of-type {\n",
       "        vertical-align: middle;\n",
       "    }\n",
       "\n",
       "    .dataframe tbody tr th {\n",
       "        vertical-align: top;\n",
       "    }\n",
       "\n",
       "    .dataframe thead th {\n",
       "        text-align: right;\n",
       "    }\n",
       "</style>\n",
       "<table border=\"1\" class=\"dataframe\">\n",
       "  <thead>\n",
       "    <tr style=\"text-align: right;\">\n",
       "      <th></th>\n",
       "      <th>Store_Num</th>\n",
       "      <th>Dept_Num</th>\n",
       "      <th>Date</th>\n",
       "      <th>Weekly_Sales</th>\n",
       "      <th>Is_Holiday</th>\n",
       "    </tr>\n",
       "  </thead>\n",
       "  <tbody>\n",
       "    <tr>\n",
       "      <th>0</th>\n",
       "      <td>1</td>\n",
       "      <td>1</td>\n",
       "      <td>05-02-2010</td>\n",
       "      <td>24924.50</td>\n",
       "      <td>False</td>\n",
       "    </tr>\n",
       "    <tr>\n",
       "      <th>1</th>\n",
       "      <td>1</td>\n",
       "      <td>1</td>\n",
       "      <td>12-02-2010</td>\n",
       "      <td>46039.49</td>\n",
       "      <td>True</td>\n",
       "    </tr>\n",
       "    <tr>\n",
       "      <th>2</th>\n",
       "      <td>1</td>\n",
       "      <td>1</td>\n",
       "      <td>19-02-2010</td>\n",
       "      <td>41595.55</td>\n",
       "      <td>False</td>\n",
       "    </tr>\n",
       "    <tr>\n",
       "      <th>3</th>\n",
       "      <td>1</td>\n",
       "      <td>1</td>\n",
       "      <td>26-02-2010</td>\n",
       "      <td>19403.54</td>\n",
       "      <td>False</td>\n",
       "    </tr>\n",
       "    <tr>\n",
       "      <th>4</th>\n",
       "      <td>1</td>\n",
       "      <td>1</td>\n",
       "      <td>05-03-2010</td>\n",
       "      <td>21827.90</td>\n",
       "      <td>False</td>\n",
       "    </tr>\n",
       "    <tr>\n",
       "      <th>...</th>\n",
       "      <td>...</td>\n",
       "      <td>...</td>\n",
       "      <td>...</td>\n",
       "      <td>...</td>\n",
       "      <td>...</td>\n",
       "    </tr>\n",
       "    <tr>\n",
       "      <th>421565</th>\n",
       "      <td>45</td>\n",
       "      <td>98</td>\n",
       "      <td>28-09-2012</td>\n",
       "      <td>508.37</td>\n",
       "      <td>False</td>\n",
       "    </tr>\n",
       "    <tr>\n",
       "      <th>421566</th>\n",
       "      <td>45</td>\n",
       "      <td>98</td>\n",
       "      <td>05-10-2012</td>\n",
       "      <td>628.10</td>\n",
       "      <td>False</td>\n",
       "    </tr>\n",
       "    <tr>\n",
       "      <th>421567</th>\n",
       "      <td>45</td>\n",
       "      <td>98</td>\n",
       "      <td>12-10-2012</td>\n",
       "      <td>1061.02</td>\n",
       "      <td>False</td>\n",
       "    </tr>\n",
       "    <tr>\n",
       "      <th>421568</th>\n",
       "      <td>45</td>\n",
       "      <td>98</td>\n",
       "      <td>19-10-2012</td>\n",
       "      <td>760.01</td>\n",
       "      <td>False</td>\n",
       "    </tr>\n",
       "    <tr>\n",
       "      <th>421569</th>\n",
       "      <td>45</td>\n",
       "      <td>98</td>\n",
       "      <td>26-10-2012</td>\n",
       "      <td>1076.80</td>\n",
       "      <td>False</td>\n",
       "    </tr>\n",
       "  </tbody>\n",
       "</table>\n",
       "<p>421570 rows × 5 columns</p>\n",
       "</div>"
      ],
      "text/plain": [
       "        Store_Num  Dept_Num        Date  Weekly_Sales  Is_Holiday\n",
       "0               1         1  05-02-2010      24924.50       False\n",
       "1               1         1  12-02-2010      46039.49        True\n",
       "2               1         1  19-02-2010      41595.55       False\n",
       "3               1         1  26-02-2010      19403.54       False\n",
       "4               1         1  05-03-2010      21827.90       False\n",
       "...           ...       ...         ...           ...         ...\n",
       "421565         45        98  28-09-2012        508.37       False\n",
       "421566         45        98  05-10-2012        628.10       False\n",
       "421567         45        98  12-10-2012       1061.02       False\n",
       "421568         45        98  19-10-2012        760.01       False\n",
       "421569         45        98  26-10-2012       1076.80       False\n",
       "\n",
       "[421570 rows x 5 columns]"
      ]
     },
     "execution_count": 8,
     "metadata": {},
     "output_type": "execute_result"
    }
   ],
   "source": [
    "# Import Datasets\n",
    "\n",
    "url = ' https://drive.google.com/file/d/14ZJ1GgbtvG4r9YggI63DQlublsRhuKbk/view?usp=sharing'\n",
    "file_id = url.split('/')[-2]\n",
    "\n",
    "path = 'https://drive.google.com/uc?id=' + file_id\n",
    "\n",
    "b = pd.read_csv(path); \n",
    "b # Dataset "
   ]
  },
  {
   "cell_type": "code",
   "execution_count": 11,
   "id": "6bcaac2e",
   "metadata": {
    "deletable": false
   },
   "outputs": [
    {
     "data": {
      "text/html": [
       "<div>\n",
       "<style scoped>\n",
       "    .dataframe tbody tr th:only-of-type {\n",
       "        vertical-align: middle;\n",
       "    }\n",
       "\n",
       "    .dataframe tbody tr th {\n",
       "        vertical-align: top;\n",
       "    }\n",
       "\n",
       "    .dataframe thead th {\n",
       "        text-align: right;\n",
       "    }\n",
       "</style>\n",
       "<table border=\"1\" class=\"dataframe\">\n",
       "  <thead>\n",
       "    <tr style=\"text-align: right;\">\n",
       "      <th></th>\n",
       "      <th>Store_Num</th>\n",
       "      <th>Store_Type</th>\n",
       "      <th>Store_Size</th>\n",
       "      <th>Dept_Num</th>\n",
       "      <th>Date</th>\n",
       "      <th>Weekly_Sales</th>\n",
       "      <th>Is_Holiday</th>\n",
       "    </tr>\n",
       "  </thead>\n",
       "  <tbody>\n",
       "    <tr>\n",
       "      <th>0</th>\n",
       "      <td>1</td>\n",
       "      <td>A</td>\n",
       "      <td>151315</td>\n",
       "      <td>1</td>\n",
       "      <td>05-02-2010</td>\n",
       "      <td>24924.50</td>\n",
       "      <td>False</td>\n",
       "    </tr>\n",
       "    <tr>\n",
       "      <th>1</th>\n",
       "      <td>1</td>\n",
       "      <td>A</td>\n",
       "      <td>151315</td>\n",
       "      <td>1</td>\n",
       "      <td>12-02-2010</td>\n",
       "      <td>46039.49</td>\n",
       "      <td>True</td>\n",
       "    </tr>\n",
       "    <tr>\n",
       "      <th>2</th>\n",
       "      <td>1</td>\n",
       "      <td>A</td>\n",
       "      <td>151315</td>\n",
       "      <td>1</td>\n",
       "      <td>19-02-2010</td>\n",
       "      <td>41595.55</td>\n",
       "      <td>False</td>\n",
       "    </tr>\n",
       "    <tr>\n",
       "      <th>3</th>\n",
       "      <td>1</td>\n",
       "      <td>A</td>\n",
       "      <td>151315</td>\n",
       "      <td>1</td>\n",
       "      <td>26-02-2010</td>\n",
       "      <td>19403.54</td>\n",
       "      <td>False</td>\n",
       "    </tr>\n",
       "    <tr>\n",
       "      <th>4</th>\n",
       "      <td>1</td>\n",
       "      <td>A</td>\n",
       "      <td>151315</td>\n",
       "      <td>1</td>\n",
       "      <td>05-03-2010</td>\n",
       "      <td>21827.90</td>\n",
       "      <td>False</td>\n",
       "    </tr>\n",
       "    <tr>\n",
       "      <th>...</th>\n",
       "      <td>...</td>\n",
       "      <td>...</td>\n",
       "      <td>...</td>\n",
       "      <td>...</td>\n",
       "      <td>...</td>\n",
       "      <td>...</td>\n",
       "      <td>...</td>\n",
       "    </tr>\n",
       "    <tr>\n",
       "      <th>421565</th>\n",
       "      <td>45</td>\n",
       "      <td>B</td>\n",
       "      <td>118221</td>\n",
       "      <td>98</td>\n",
       "      <td>28-09-2012</td>\n",
       "      <td>508.37</td>\n",
       "      <td>False</td>\n",
       "    </tr>\n",
       "    <tr>\n",
       "      <th>421566</th>\n",
       "      <td>45</td>\n",
       "      <td>B</td>\n",
       "      <td>118221</td>\n",
       "      <td>98</td>\n",
       "      <td>05-10-2012</td>\n",
       "      <td>628.10</td>\n",
       "      <td>False</td>\n",
       "    </tr>\n",
       "    <tr>\n",
       "      <th>421567</th>\n",
       "      <td>45</td>\n",
       "      <td>B</td>\n",
       "      <td>118221</td>\n",
       "      <td>98</td>\n",
       "      <td>12-10-2012</td>\n",
       "      <td>1061.02</td>\n",
       "      <td>False</td>\n",
       "    </tr>\n",
       "    <tr>\n",
       "      <th>421568</th>\n",
       "      <td>45</td>\n",
       "      <td>B</td>\n",
       "      <td>118221</td>\n",
       "      <td>98</td>\n",
       "      <td>19-10-2012</td>\n",
       "      <td>760.01</td>\n",
       "      <td>False</td>\n",
       "    </tr>\n",
       "    <tr>\n",
       "      <th>421569</th>\n",
       "      <td>45</td>\n",
       "      <td>B</td>\n",
       "      <td>118221</td>\n",
       "      <td>98</td>\n",
       "      <td>26-10-2012</td>\n",
       "      <td>1076.80</td>\n",
       "      <td>False</td>\n",
       "    </tr>\n",
       "  </tbody>\n",
       "</table>\n",
       "<p>421570 rows × 7 columns</p>\n",
       "</div>"
      ],
      "text/plain": [
       "        Store_Num Store_Type  Store_Size  Dept_Num        Date  Weekly_Sales  \\\n",
       "0               1          A      151315         1  05-02-2010      24924.50   \n",
       "1               1          A      151315         1  12-02-2010      46039.49   \n",
       "2               1          A      151315         1  19-02-2010      41595.55   \n",
       "3               1          A      151315         1  26-02-2010      19403.54   \n",
       "4               1          A      151315         1  05-03-2010      21827.90   \n",
       "...           ...        ...         ...       ...         ...           ...   \n",
       "421565         45          B      118221        98  28-09-2012        508.37   \n",
       "421566         45          B      118221        98  05-10-2012        628.10   \n",
       "421567         45          B      118221        98  12-10-2012       1061.02   \n",
       "421568         45          B      118221        98  19-10-2012        760.01   \n",
       "421569         45          B      118221        98  26-10-2012       1076.80   \n",
       "\n",
       "        Is_Holiday  \n",
       "0            False  \n",
       "1             True  \n",
       "2            False  \n",
       "3            False  \n",
       "4            False  \n",
       "...            ...  \n",
       "421565       False  \n",
       "421566       False  \n",
       "421567       False  \n",
       "421568       False  \n",
       "421569       False  \n",
       "\n",
       "[421570 rows x 7 columns]"
      ]
     },
     "execution_count": 11,
     "metadata": {},
     "output_type": "execute_result"
    }
   ],
   "source": [
    "# Merge both Datasets [Stores_Info & Sales_Info] to form a Single Dataset\n",
    "df = pd.merge(a[['Store_Num','Store_Type','Store_Size']], b[['Store_Num','Dept_Num','Date','Weekly_Sales','Is_Holiday']], on='Store_Num', how='inner'); df"
   ]
  },
  {
   "cell_type": "code",
   "execution_count": 15,
   "id": "b1ff2755",
   "metadata": {
    "deletable": false,
    "scrolled": true
   },
   "outputs": [
    {
     "data": {
      "text/html": [
       "<div>\n",
       "<style scoped>\n",
       "    .dataframe tbody tr th:only-of-type {\n",
       "        vertical-align: middle;\n",
       "    }\n",
       "\n",
       "    .dataframe tbody tr th {\n",
       "        vertical-align: top;\n",
       "    }\n",
       "\n",
       "    .dataframe thead th {\n",
       "        text-align: right;\n",
       "    }\n",
       "</style>\n",
       "<table border=\"1\" class=\"dataframe\">\n",
       "  <thead>\n",
       "    <tr style=\"text-align: right;\">\n",
       "      <th></th>\n",
       "      <th>Store_Num</th>\n",
       "      <th>Store_Type</th>\n",
       "      <th>Store_Size</th>\n",
       "      <th>Dept_Num</th>\n",
       "      <th>Date</th>\n",
       "      <th>Weekly_Sales</th>\n",
       "      <th>Is_Holiday</th>\n",
       "    </tr>\n",
       "  </thead>\n",
       "  <tbody>\n",
       "    <tr>\n",
       "      <th>87524</th>\n",
       "      <td>10</td>\n",
       "      <td>B</td>\n",
       "      <td>126512</td>\n",
       "      <td>1</td>\n",
       "      <td>05-02-2010</td>\n",
       "      <td>40212.84</td>\n",
       "      <td>False</td>\n",
       "    </tr>\n",
       "    <tr>\n",
       "      <th>87525</th>\n",
       "      <td>10</td>\n",
       "      <td>B</td>\n",
       "      <td>126512</td>\n",
       "      <td>1</td>\n",
       "      <td>12-02-2010</td>\n",
       "      <td>67699.32</td>\n",
       "      <td>True</td>\n",
       "    </tr>\n",
       "    <tr>\n",
       "      <th>87526</th>\n",
       "      <td>10</td>\n",
       "      <td>B</td>\n",
       "      <td>126512</td>\n",
       "      <td>1</td>\n",
       "      <td>19-02-2010</td>\n",
       "      <td>49748.33</td>\n",
       "      <td>False</td>\n",
       "    </tr>\n",
       "    <tr>\n",
       "      <th>87527</th>\n",
       "      <td>10</td>\n",
       "      <td>B</td>\n",
       "      <td>126512</td>\n",
       "      <td>1</td>\n",
       "      <td>26-02-2010</td>\n",
       "      <td>33601.22</td>\n",
       "      <td>False</td>\n",
       "    </tr>\n",
       "    <tr>\n",
       "      <th>87528</th>\n",
       "      <td>10</td>\n",
       "      <td>B</td>\n",
       "      <td>126512</td>\n",
       "      <td>1</td>\n",
       "      <td>05-03-2010</td>\n",
       "      <td>36572.44</td>\n",
       "      <td>False</td>\n",
       "    </tr>\n",
       "    <tr>\n",
       "      <th>...</th>\n",
       "      <td>...</td>\n",
       "      <td>...</td>\n",
       "      <td>...</td>\n",
       "      <td>...</td>\n",
       "      <td>...</td>\n",
       "      <td>...</td>\n",
       "      <td>...</td>\n",
       "    </tr>\n",
       "    <tr>\n",
       "      <th>277088</th>\n",
       "      <td>28</td>\n",
       "      <td>A</td>\n",
       "      <td>206302</td>\n",
       "      <td>99</td>\n",
       "      <td>07-09-2012</td>\n",
       "      <td>20.11</td>\n",
       "      <td>True</td>\n",
       "    </tr>\n",
       "    <tr>\n",
       "      <th>277089</th>\n",
       "      <td>28</td>\n",
       "      <td>A</td>\n",
       "      <td>206302</td>\n",
       "      <td>99</td>\n",
       "      <td>14-09-2012</td>\n",
       "      <td>0.14</td>\n",
       "      <td>False</td>\n",
       "    </tr>\n",
       "    <tr>\n",
       "      <th>277090</th>\n",
       "      <td>28</td>\n",
       "      <td>A</td>\n",
       "      <td>206302</td>\n",
       "      <td>99</td>\n",
       "      <td>21-09-2012</td>\n",
       "      <td>0.07</td>\n",
       "      <td>False</td>\n",
       "    </tr>\n",
       "    <tr>\n",
       "      <th>277091</th>\n",
       "      <td>28</td>\n",
       "      <td>A</td>\n",
       "      <td>206302</td>\n",
       "      <td>99</td>\n",
       "      <td>05-10-2012</td>\n",
       "      <td>400.00</td>\n",
       "      <td>False</td>\n",
       "    </tr>\n",
       "    <tr>\n",
       "      <th>277092</th>\n",
       "      <td>28</td>\n",
       "      <td>A</td>\n",
       "      <td>206302</td>\n",
       "      <td>99</td>\n",
       "      <td>12-10-2012</td>\n",
       "      <td>80.00</td>\n",
       "      <td>False</td>\n",
       "    </tr>\n",
       "  </tbody>\n",
       "</table>\n",
       "<p>49821 rows × 7 columns</p>\n",
       "</div>"
      ],
      "text/plain": [
       "        Store_Num Store_Type  Store_Size  Dept_Num        Date  Weekly_Sales  \\\n",
       "87524          10          B      126512         1  05-02-2010      40212.84   \n",
       "87525          10          B      126512         1  12-02-2010      67699.32   \n",
       "87526          10          B      126512         1  19-02-2010      49748.33   \n",
       "87527          10          B      126512         1  26-02-2010      33601.22   \n",
       "87528          10          B      126512         1  05-03-2010      36572.44   \n",
       "...           ...        ...         ...       ...         ...           ...   \n",
       "277088         28          A      206302        99  07-09-2012         20.11   \n",
       "277089         28          A      206302        99  14-09-2012          0.14   \n",
       "277090         28          A      206302        99  21-09-2012          0.07   \n",
       "277091         28          A      206302        99  05-10-2012        400.00   \n",
       "277092         28          A      206302        99  12-10-2012         80.00   \n",
       "\n",
       "        Is_Holiday  \n",
       "87524        False  \n",
       "87525         True  \n",
       "87526        False  \n",
       "87527        False  \n",
       "87528        False  \n",
       "...            ...  \n",
       "277088        True  \n",
       "277089       False  \n",
       "277090       False  \n",
       "277091       False  \n",
       "277092       False  \n",
       "\n",
       "[49821 rows x 7 columns]"
      ]
     },
     "execution_count": 15,
     "metadata": {},
     "output_type": "execute_result"
    }
   ],
   "source": [
    "# Create Student Specific Unique Data Subset by Selecting 5 Random Stores\n",
    "\n",
    "import random\n",
    "\n",
    "random.seed(35012) # Replace 'SRN' with Student Roll Number\n",
    "\n",
    "n_stores = len(df['Store_Num'].unique()); n_stores # Replace Mearged Dataset 'mds' with appropriate Variable Name\n",
    "\n",
    "stores_random_5 = random.sample(range(1, n_stores), 5); stores_random_5 # List of 5 Random Stores\n",
    "\n",
    "sds = df[df['Store_Num'].isin(stores_random_5)]; sds\n",
    "# Replace Student Data Subset 'sds' & Merged Dataset 'mds' with appropriate Variable Names\n",
    " "
   ]
  },
  {
   "cell_type": "markdown",
   "id": "ac55ecb0",
   "metadata": {
    "deletable": false,
    "editable": false
   },
   "source": [
    "### -----------------------------------------------------------------------------------------------------------------------------------------------------------"
   ]
  },
  {
   "cell_type": "markdown",
   "id": "9f11e906",
   "metadata": {
    "deletable": false,
    "editable": false
   },
   "source": [
    "## Instructions\n",
    "\n",
    "### Part A : Description of Data \n",
    "\n",
    "### Part B : Objective(s) of Data Analysis\n",
    "\n",
    "### Part C : Data Analysis\n",
    "#### 1. Analyze the Data using Descriptive Statistics\n",
    "##### 1.1. Segregate the Data in 2 parts : Categorical {Nominal | Ordinal} & Non-Categorical Data \n",
    "##### 1.2. Categorical Data : Visualize using Descriptive Statistics\n",
    "##### 1.3. Non-Categorical Data : Analyze using Descriptive Statistics\n",
    "\n",
    "#### 2. Analyze the Data using Inferential Statistics & Regression\n",
    "##### 2.1. Inferential Statistics (Hypothesis Testing : T Test | ANOVA | Test of Correlation | Test of Normality)\n",
    "##### 2.2. Regression (Simple | Multiple | Multiple with Categorical Data)\n",
    "\n",
    "### Part D : Report on Data Analysis : Observations | Inferences (or Insights)\n",
    "\n",
    "### -----------------------------------------------------------------------------------------------------------------------------------------------------------"
   ]
  },
  {
   "cell_type": "markdown",
   "id": "d4171b03",
   "metadata": {
    "deletable": false,
    "editable": false
   },
   "source": [
    "### Part A : Description of Data\n",
    "### Information on:\n",
    "#### 1. Store_Num | Store_Type | Dept_Num\n",
    "#### 2. Date | Is_Holiday"
   ]
  },
  {
   "cell_type": "markdown",
   "id": "fa6875bc",
   "metadata": {},
   "source": [
    "1. Descriptive variables:\n",
    "\n",
    "a. 'Store_Num': normal categorical data\n",
    "\n",
    "b. 'Store_Type': normal cartegorical  \n",
    "\n",
    "c. 'Dept_Num': normal categorical data\n",
    "\n",
    "d. 'Date': categorical (but not for the data set) \n",
    "\n",
    "e. 'Is_Holiday': categorical data\n",
    "\n",
    "\n",
    "2. Quantifying variables\n",
    "\n",
    "a. 'Store_Size': normal non-categorical\n",
    "\n",
    "b. 'Weekly_Sales': non categorical"
   ]
  },
  {
   "cell_type": "code",
   "execution_count": 16,
   "id": "6d6ea19a",
   "metadata": {},
   "outputs": [
    {
     "data": {
      "text/html": [
       "<div>\n",
       "<style scoped>\n",
       "    .dataframe tbody tr th:only-of-type {\n",
       "        vertical-align: middle;\n",
       "    }\n",
       "\n",
       "    .dataframe tbody tr th {\n",
       "        vertical-align: top;\n",
       "    }\n",
       "\n",
       "    .dataframe thead th {\n",
       "        text-align: right;\n",
       "    }\n",
       "</style>\n",
       "<table border=\"1\" class=\"dataframe\">\n",
       "  <thead>\n",
       "    <tr style=\"text-align: right;\">\n",
       "      <th></th>\n",
       "      <th>count</th>\n",
       "      <th>percentage</th>\n",
       "    </tr>\n",
       "  </thead>\n",
       "  <tbody>\n",
       "    <tr>\n",
       "      <th>10</th>\n",
       "      <td>10315</td>\n",
       "      <td>21.0</td>\n",
       "    </tr>\n",
       "    <tr>\n",
       "      <th>28</th>\n",
       "      <td>10113</td>\n",
       "      <td>20.0</td>\n",
       "    </tr>\n",
       "    <tr>\n",
       "      <th>15</th>\n",
       "      <td>9901</td>\n",
       "      <td>20.0</td>\n",
       "    </tr>\n",
       "    <tr>\n",
       "      <th>25</th>\n",
       "      <td>9804</td>\n",
       "      <td>20.0</td>\n",
       "    </tr>\n",
       "    <tr>\n",
       "      <th>22</th>\n",
       "      <td>9688</td>\n",
       "      <td>19.0</td>\n",
       "    </tr>\n",
       "  </tbody>\n",
       "</table>\n",
       "</div>"
      ],
      "text/plain": [
       "    count  percentage\n",
       "10  10315        21.0\n",
       "28  10113        20.0\n",
       "15   9901        20.0\n",
       "25   9804        20.0\n",
       "22   9688        19.0"
      ]
     },
     "execution_count": 16,
     "metadata": {},
     "output_type": "execute_result"
    }
   ],
   "source": [
    "sds_store_num_stats = pd.concat([sds['Store_Num'].value_counts(), sds['Store_Num'].value_counts(normalize=True).mul(100).round(0)], axis=1, keys=('count','percentage'))\n",
    "sds_store_num_stats"
   ]
  },
  {
   "cell_type": "markdown",
   "id": "dc948ceb",
   "metadata": {},
   "source": [
    "**Analysis:** Store no. 10 has the maximum no. of records while Store no. 22 has the minimum no. of records."
   ]
  },
  {
   "cell_type": "code",
   "execution_count": 17,
   "id": "b55b7ee1",
   "metadata": {
    "scrolled": true
   },
   "outputs": [
    {
     "data": {
      "text/html": [
       "<div>\n",
       "<style scoped>\n",
       "    .dataframe tbody tr th:only-of-type {\n",
       "        vertical-align: middle;\n",
       "    }\n",
       "\n",
       "    .dataframe tbody tr th {\n",
       "        vertical-align: top;\n",
       "    }\n",
       "\n",
       "    .dataframe thead th {\n",
       "        text-align: right;\n",
       "    }\n",
       "</style>\n",
       "<table border=\"1\" class=\"dataframe\">\n",
       "  <thead>\n",
       "    <tr style=\"text-align: right;\">\n",
       "      <th></th>\n",
       "      <th>count</th>\n",
       "      <th>percentage</th>\n",
       "    </tr>\n",
       "  </thead>\n",
       "  <tbody>\n",
       "    <tr>\n",
       "      <th>B</th>\n",
       "      <td>39708</td>\n",
       "      <td>80.0</td>\n",
       "    </tr>\n",
       "    <tr>\n",
       "      <th>A</th>\n",
       "      <td>10113</td>\n",
       "      <td>20.0</td>\n",
       "    </tr>\n",
       "  </tbody>\n",
       "</table>\n",
       "</div>"
      ],
      "text/plain": [
       "   count  percentage\n",
       "B  39708        80.0\n",
       "A  10113        20.0"
      ]
     },
     "execution_count": 17,
     "metadata": {},
     "output_type": "execute_result"
    }
   ],
   "source": [
    "sds_store_num_stats = pd.concat([sds['Store_Type'].value_counts(), sds['Store_Type'].value_counts(normalize=True).mul(100).round(0)], axis=1, keys=('count','percentage'))\n",
    "sds_store_num_stats"
   ]
  },
  {
   "cell_type": "markdown",
   "id": "22c7c567",
   "metadata": {},
   "source": [
    "**Analysis:** In the dataset, there are 80% stores of Type B and 20% stores of Type A"
   ]
  },
  {
   "cell_type": "code",
   "execution_count": 18,
   "id": "011b21f3",
   "metadata": {},
   "outputs": [
    {
     "data": {
      "text/html": [
       "<div>\n",
       "<style scoped>\n",
       "    .dataframe tbody tr th:only-of-type {\n",
       "        vertical-align: middle;\n",
       "    }\n",
       "\n",
       "    .dataframe tbody tr th {\n",
       "        vertical-align: top;\n",
       "    }\n",
       "\n",
       "    .dataframe thead th {\n",
       "        text-align: right;\n",
       "    }\n",
       "</style>\n",
       "<table border=\"1\" class=\"dataframe\">\n",
       "  <thead>\n",
       "    <tr style=\"text-align: right;\">\n",
       "      <th></th>\n",
       "      <th>count</th>\n",
       "      <th>percentage</th>\n",
       "    </tr>\n",
       "  </thead>\n",
       "  <tbody>\n",
       "    <tr>\n",
       "      <th>1</th>\n",
       "      <td>715</td>\n",
       "      <td>1.0</td>\n",
       "    </tr>\n",
       "    <tr>\n",
       "      <th>33</th>\n",
       "      <td>715</td>\n",
       "      <td>1.0</td>\n",
       "    </tr>\n",
       "    <tr>\n",
       "      <th>35</th>\n",
       "      <td>715</td>\n",
       "      <td>1.0</td>\n",
       "    </tr>\n",
       "    <tr>\n",
       "      <th>36</th>\n",
       "      <td>715</td>\n",
       "      <td>1.0</td>\n",
       "    </tr>\n",
       "    <tr>\n",
       "      <th>38</th>\n",
       "      <td>715</td>\n",
       "      <td>1.0</td>\n",
       "    </tr>\n",
       "    <tr>\n",
       "      <th>...</th>\n",
       "      <td>...</td>\n",
       "      <td>...</td>\n",
       "    </tr>\n",
       "    <tr>\n",
       "      <th>47</th>\n",
       "      <td>100</td>\n",
       "      <td>0.0</td>\n",
       "    </tr>\n",
       "    <tr>\n",
       "      <th>99</th>\n",
       "      <td>43</td>\n",
       "      <td>0.0</td>\n",
       "    </tr>\n",
       "    <tr>\n",
       "      <th>78</th>\n",
       "      <td>39</td>\n",
       "      <td>0.0</td>\n",
       "    </tr>\n",
       "    <tr>\n",
       "      <th>77</th>\n",
       "      <td>17</td>\n",
       "      <td>0.0</td>\n",
       "    </tr>\n",
       "    <tr>\n",
       "      <th>43</th>\n",
       "      <td>4</td>\n",
       "      <td>0.0</td>\n",
       "    </tr>\n",
       "  </tbody>\n",
       "</table>\n",
       "<p>79 rows × 2 columns</p>\n",
       "</div>"
      ],
      "text/plain": [
       "    count  percentage\n",
       "1     715         1.0\n",
       "33    715         1.0\n",
       "35    715         1.0\n",
       "36    715         1.0\n",
       "38    715         1.0\n",
       "..    ...         ...\n",
       "47    100         0.0\n",
       "99     43         0.0\n",
       "78     39         0.0\n",
       "77     17         0.0\n",
       "43      4         0.0\n",
       "\n",
       "[79 rows x 2 columns]"
      ]
     },
     "execution_count": 18,
     "metadata": {},
     "output_type": "execute_result"
    }
   ],
   "source": [
    "sds_store_num_stats = pd.concat([sds['Dept_Num'].value_counts(), sds['Dept_Num'].value_counts(normalize=True).mul(100).round(0)], axis=1, keys=('count','percentage'))\n",
    "sds_store_num_stats"
   ]
  },
  {
   "cell_type": "markdown",
   "id": "9904fc9a",
   "metadata": {},
   "source": [
    "**Analysis:** In the dataset, Dept 1 has the maximum records while Dept 43 has the minimum records"
   ]
  },
  {
   "cell_type": "code",
   "execution_count": 19,
   "id": "c1c0393b",
   "metadata": {},
   "outputs": [
    {
     "data": {
      "text/html": [
       "<div>\n",
       "<style scoped>\n",
       "    .dataframe tbody tr th:only-of-type {\n",
       "        vertical-align: middle;\n",
       "    }\n",
       "\n",
       "    .dataframe tbody tr th {\n",
       "        vertical-align: top;\n",
       "    }\n",
       "\n",
       "    .dataframe thead th {\n",
       "        text-align: right;\n",
       "    }\n",
       "</style>\n",
       "<table border=\"1\" class=\"dataframe\">\n",
       "  <thead>\n",
       "    <tr style=\"text-align: right;\">\n",
       "      <th></th>\n",
       "      <th>count</th>\n",
       "      <th>percentage</th>\n",
       "    </tr>\n",
       "  </thead>\n",
       "  <tbody>\n",
       "    <tr>\n",
       "      <th>False</th>\n",
       "      <td>46309</td>\n",
       "      <td>93.0</td>\n",
       "    </tr>\n",
       "    <tr>\n",
       "      <th>True</th>\n",
       "      <td>3512</td>\n",
       "      <td>7.0</td>\n",
       "    </tr>\n",
       "  </tbody>\n",
       "</table>\n",
       "</div>"
      ],
      "text/plain": [
       "       count  percentage\n",
       "False  46309        93.0\n",
       "True    3512         7.0"
      ]
     },
     "execution_count": 19,
     "metadata": {},
     "output_type": "execute_result"
    }
   ],
   "source": [
    "sds_store_num_stats = pd.concat([sds['Is_Holiday'].value_counts(), sds['Is_Holiday'].value_counts(normalize=True).mul(100).round(0)], axis=1, keys=('count','percentage'))\n",
    "sds_store_num_stats"
   ]
  },
  {
   "cell_type": "markdown",
   "id": "24ccb731",
   "metadata": {},
   "source": [
    "**Analysis:** In the dataset, 93% of the time its was a holiday, while only 7% of the time it was a working day"
   ]
  },
  {
   "cell_type": "markdown",
   "id": "9d8f8047",
   "metadata": {
    "deletable": false,
    "editable": false
   },
   "source": [
    "### Part B : Objective(s) of Data Analysis"
   ]
  },
  {
   "cell_type": "markdown",
   "id": "e1918a5e",
   "metadata": {},
   "source": [
    "1) To count the total number of Type A and Type B Stores\n",
    "2) To analyse whether more sales happen on a holiday or a working day\n",
    "3) To determine the weekly sales as per the store number\n",
    "4) To determine top 5 department as per weekly sales\n",
    "5) To determine bottom 5 department as per weekly sales\n",
    "6) To determine the average store size as per the store type\n",
    "7) To determine the store generating the maximum average revenue\n",
    "8) To test the normality of Weekly sales\n",
    "9) To determine whether there is a difference between the mean weekly sales of stores of Type a and Type B\n",
    "10) To determine the correlation between the weekly sales and store size"
   ]
  },
  {
   "cell_type": "markdown",
   "id": "84a03c85",
   "metadata": {
    "deletable": false,
    "editable": false
   },
   "source": [
    "### Part C : Data Analysis "
   ]
  },
  {
   "cell_type": "code",
   "execution_count": 23,
   "id": "1e94554a",
   "metadata": {},
   "outputs": [
    {
     "data": {
      "text/plain": [
       "B    39708\n",
       "A    10113\n",
       "Name: Store_Type, dtype: int64"
      ]
     },
     "execution_count": 23,
     "metadata": {},
     "output_type": "execute_result"
    }
   ],
   "source": [
    "#1) \n",
    "sds.Store_Type.value_counts()"
   ]
  },
  {
   "cell_type": "code",
   "execution_count": 30,
   "id": "527a7896",
   "metadata": {},
   "outputs": [
    {
     "data": {
      "text/html": [
       "<div>\n",
       "<style scoped>\n",
       "    .dataframe tbody tr th:only-of-type {\n",
       "        vertical-align: middle;\n",
       "    }\n",
       "\n",
       "    .dataframe tbody tr th {\n",
       "        vertical-align: top;\n",
       "    }\n",
       "\n",
       "    .dataframe thead th {\n",
       "        text-align: right;\n",
       "    }\n",
       "</style>\n",
       "<table border=\"1\" class=\"dataframe\">\n",
       "  <thead>\n",
       "    <tr style=\"text-align: right;\">\n",
       "      <th></th>\n",
       "      <th>count</th>\n",
       "      <th>percentage</th>\n",
       "    </tr>\n",
       "  </thead>\n",
       "  <tbody>\n",
       "    <tr>\n",
       "      <th>False</th>\n",
       "      <td>391909</td>\n",
       "      <td>93.0</td>\n",
       "    </tr>\n",
       "    <tr>\n",
       "      <th>True</th>\n",
       "      <td>29661</td>\n",
       "      <td>7.0</td>\n",
       "    </tr>\n",
       "  </tbody>\n",
       "</table>\n",
       "</div>"
      ],
      "text/plain": [
       "        count  percentage\n",
       "False  391909        93.0\n",
       "True    29661         7.0"
      ]
     },
     "execution_count": 30,
     "metadata": {},
     "output_type": "execute_result"
    }
   ],
   "source": [
    "is_holiday= pd.concat([df['Is_Holiday'].value_counts(), df['Is_Holiday'].value_counts(normalize=True).mul(100).round(0)],axis=1,keys=('count','percentage'))\n",
    "is_holiday"
   ]
  },
  {
   "cell_type": "code",
   "execution_count": 51,
   "id": "9a096071",
   "metadata": {},
   "outputs": [
    {
     "data": {
      "image/png": "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\n",
      "text/plain": [
       "<Figure size 640x480 with 1 Axes>"
      ]
     },
     "metadata": {},
     "output_type": "display_data"
    }
   ],
   "source": [
    "ih_stats = pd.concat([sds['Is_Holiday'].value_counts(), sds['Is_Holiday'].value_counts(normalize=True).mul(100).round(0)], axis=1, keys=('count','percentage'))\n",
    "ih_stats['Is_Holiday']= ih_stats.index\n",
    "values = ih_stats.percentage\n",
    "plt.pie(values, autopct='%1.1f%%')\n",
    "plt.title('Percentage of holidays')\n",
    "plt.show()"
   ]
  },
  {
   "cell_type": "code",
   "execution_count": 38,
   "id": "098e84cf",
   "metadata": {},
   "outputs": [
    {
     "data": {
      "text/plain": [
       "<AxesSubplot: xlabel='Store Type', ylabel='Number of Stores'>"
      ]
     },
     "execution_count": 38,
     "metadata": {},
     "output_type": "execute_result"
    },
    {
     "data": {
      "image/png": "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\n",
      "text/plain": [
       "<Figure size 640x480 with 1 Axes>"
      ]
     },
     "metadata": {},
     "output_type": "display_data"
    }
   ],
   "source": [
    "st_stats = pd.concat([sds['Store_Type'].value_counts(), sds['Store_Type'].value_counts(normalize=True).mul(100).round(0)], axis=1, keys=('count','percentage'))\n",
    "st_stats['Store_Type']=st_stats.index\n",
    "st_stats.plot.bar(x =\"Store_Type\", y =\"count\", xlabel = \"Store Type\" , ylabel= \"Number of Stores\" , legend = None)"
   ]
  },
  {
   "cell_type": "code",
   "execution_count": 33,
   "id": "a09b5948",
   "metadata": {},
   "outputs": [
    {
     "data": {
      "text/plain": [
       "Store_Num\n",
       "10    2.716177e+08\n",
       "28    1.892637e+08\n",
       "22    1.470756e+08\n",
       "25    1.010612e+08\n",
       "15    8.913368e+07\n",
       "Name: Weekly_Sales, dtype: float64"
      ]
     },
     "execution_count": 33,
     "metadata": {},
     "output_type": "execute_result"
    }
   ],
   "source": [
    "sds.groupby('Store_Num')['Weekly_Sales'].sum().sort_values(ascending=False)"
   ]
  },
  {
   "cell_type": "code",
   "execution_count": 35,
   "id": "6825f68c",
   "metadata": {},
   "outputs": [
    {
     "data": {
      "text/plain": [
       "Dept_Num\n",
       "72    49394109.35\n",
       "38    43541503.85\n",
       "95    42730903.14\n",
       "2     40625890.88\n",
       "40    39093456.26\n",
       "Name: Weekly_Sales, dtype: float64"
      ]
     },
     "execution_count": 35,
     "metadata": {},
     "output_type": "execute_result"
    }
   ],
   "source": [
    "sds.groupby('Dept_Num')['Weekly_Sales'].sum().sort_values(ascending=False).head(5)"
   ]
  },
  {
   "cell_type": "code",
   "execution_count": 36,
   "id": "46f0b241",
   "metadata": {},
   "outputs": [
    {
     "data": {
      "text/plain": [
       "Dept_Num\n",
       "77    6579.65\n",
       "51    2582.08\n",
       "47     384.33\n",
       "78     244.64\n",
       "43       7.50\n",
       "Name: Weekly_Sales, dtype: float64"
      ]
     },
     "execution_count": 36,
     "metadata": {},
     "output_type": "execute_result"
    }
   ],
   "source": [
    "sds.groupby('Dept_Num')['Weekly_Sales'].sum().sort_values(ascending=False).tail(5)"
   ]
  },
  {
   "cell_type": "code",
   "execution_count": 41,
   "id": "58de2a4c",
   "metadata": {},
   "outputs": [
    {
     "data": {
      "text/plain": [
       "Store_Type\n",
       "A    206302.000000\n",
       "B    124516.988038\n",
       "Name: Store_Size, dtype: float64"
      ]
     },
     "execution_count": 41,
     "metadata": {},
     "output_type": "execute_result"
    }
   ],
   "source": [
    "sds.groupby('Store_Type')['Store_Size'].mean().sort_values(ascending=False).tail(5)"
   ]
  },
  {
   "cell_type": "code",
   "execution_count": 43,
   "id": "9e158426",
   "metadata": {},
   "outputs": [
    {
     "data": {
      "text/html": [
       "<div>\n",
       "<style scoped>\n",
       "    .dataframe tbody tr th:only-of-type {\n",
       "        vertical-align: middle;\n",
       "    }\n",
       "\n",
       "    .dataframe tbody tr th {\n",
       "        vertical-align: top;\n",
       "    }\n",
       "\n",
       "    .dataframe thead th {\n",
       "        text-align: right;\n",
       "    }\n",
       "</style>\n",
       "<table border=\"1\" class=\"dataframe\">\n",
       "  <thead>\n",
       "    <tr style=\"text-align: right;\">\n",
       "      <th></th>\n",
       "      <th>count</th>\n",
       "      <th>mean</th>\n",
       "      <th>std</th>\n",
       "      <th>min</th>\n",
       "      <th>25%</th>\n",
       "      <th>50%</th>\n",
       "      <th>75%</th>\n",
       "      <th>max</th>\n",
       "    </tr>\n",
       "    <tr>\n",
       "      <th>Store_Num</th>\n",
       "      <th></th>\n",
       "      <th></th>\n",
       "      <th></th>\n",
       "      <th></th>\n",
       "      <th></th>\n",
       "      <th></th>\n",
       "      <th></th>\n",
       "      <th></th>\n",
       "    </tr>\n",
       "  </thead>\n",
       "  <tbody>\n",
       "    <tr>\n",
       "      <th>10</th>\n",
       "      <td>10315.0</td>\n",
       "      <td>26332.303819</td>\n",
       "      <td>32133.006264</td>\n",
       "      <td>-798.00</td>\n",
       "      <td>4651.0700</td>\n",
       "      <td>13941.430</td>\n",
       "      <td>38970.7200</td>\n",
       "      <td>693099.36</td>\n",
       "    </tr>\n",
       "    <tr>\n",
       "      <th>15</th>\n",
       "      <td>9901.0</td>\n",
       "      <td>9002.493073</td>\n",
       "      <td>11362.009143</td>\n",
       "      <td>-179.00</td>\n",
       "      <td>2070.1600</td>\n",
       "      <td>4798.870</td>\n",
       "      <td>11927.3400</td>\n",
       "      <td>292555.25</td>\n",
       "    </tr>\n",
       "    <tr>\n",
       "      <th>22</th>\n",
       "      <td>9688.0</td>\n",
       "      <td>15181.218886</td>\n",
       "      <td>18430.662585</td>\n",
       "      <td>-175.54</td>\n",
       "      <td>2715.5925</td>\n",
       "      <td>8270.225</td>\n",
       "      <td>19952.7850</td>\n",
       "      <td>393705.20</td>\n",
       "    </tr>\n",
       "    <tr>\n",
       "      <th>25</th>\n",
       "      <td>9804.0</td>\n",
       "      <td>10308.157810</td>\n",
       "      <td>12499.150431</td>\n",
       "      <td>-99.87</td>\n",
       "      <td>2245.0050</td>\n",
       "      <td>5539.170</td>\n",
       "      <td>12581.3875</td>\n",
       "      <td>198719.71</td>\n",
       "    </tr>\n",
       "    <tr>\n",
       "      <th>28</th>\n",
       "      <td>10113.0</td>\n",
       "      <td>18714.889803</td>\n",
       "      <td>22440.041482</td>\n",
       "      <td>-4988.94</td>\n",
       "      <td>3891.0000</td>\n",
       "      <td>10941.930</td>\n",
       "      <td>24601.1900</td>\n",
       "      <td>355356.39</td>\n",
       "    </tr>\n",
       "  </tbody>\n",
       "</table>\n",
       "</div>"
      ],
      "text/plain": [
       "             count          mean           std      min        25%        50%  \\\n",
       "Store_Num                                                                       \n",
       "10         10315.0  26332.303819  32133.006264  -798.00  4651.0700  13941.430   \n",
       "15          9901.0   9002.493073  11362.009143  -179.00  2070.1600   4798.870   \n",
       "22          9688.0  15181.218886  18430.662585  -175.54  2715.5925   8270.225   \n",
       "25          9804.0  10308.157810  12499.150431   -99.87  2245.0050   5539.170   \n",
       "28         10113.0  18714.889803  22440.041482 -4988.94  3891.0000  10941.930   \n",
       "\n",
       "                  75%        max  \n",
       "Store_Num                         \n",
       "10         38970.7200  693099.36  \n",
       "15         11927.3400  292555.25  \n",
       "22         19952.7850  393705.20  \n",
       "25         12581.3875  198719.71  \n",
       "28         24601.1900  355356.39  "
      ]
     },
     "execution_count": 43,
     "metadata": {},
     "output_type": "execute_result"
    }
   ],
   "source": [
    "sds.groupby('Store_Num')['Weekly_Sales'].describe()"
   ]
  },
  {
   "cell_type": "code",
   "execution_count": 52,
   "id": "03fc005c",
   "metadata": {
    "scrolled": true
   },
   "outputs": [
    {
     "name": "stderr",
     "output_type": "stream",
     "text": [
      "C:\\Users\\manu1\\anaconda3\\lib\\site-packages\\scipy\\stats\\_morestats.py:1816: UserWarning: p-value may not be accurate for N > 5000.\n",
      "  warnings.warn(\"p-value may not be accurate for N > 5000.\")\n"
     ]
    },
    {
     "data": {
      "text/plain": [
       "ShapiroResult(statistic=0.6734272241592407, pvalue=0.0)"
      ]
     },
     "execution_count": 52,
     "metadata": {},
     "output_type": "execute_result"
    }
   ],
   "source": [
    "#Null Hypothesis: Data is Normally Distributed (p-value >= 5% by default)\n",
    "\n",
    "normality_test_shapiro = sps.shapiro(sds['Weekly_Sales'])\n",
    "normality_test_shapiro"
   ]
  },
  {
   "cell_type": "code",
   "execution_count": 46,
   "id": "12aa2e06",
   "metadata": {},
   "outputs": [],
   "source": [
    "sds_storeA = sds[sds.Store_Type == 'A'] \n",
    "sds_storeB = sds[sds.Store_Type== 'B']"
   ]
  },
  {
   "cell_type": "code",
   "execution_count": 47,
   "id": "77ee86b8",
   "metadata": {},
   "outputs": [
    {
     "data": {
      "text/plain": [
       "<AxesSubplot: xlabel='Weekly_Sales', ylabel='Store_Type'>"
      ]
     },
     "execution_count": 47,
     "metadata": {},
     "output_type": "execute_result"
    },
    {
     "data": {
      "image/png": "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\n",
      "text/plain": [
       "<Figure size 640x480 with 1 Axes>"
      ]
     },
     "metadata": {},
     "output_type": "display_data"
    }
   ],
   "source": [
    "import seaborn as sns\n",
    "sns.boxplot(sds, x= 'Weekly_Sales', y='Store_Type')"
   ]
  },
  {
   "cell_type": "code",
   "execution_count": 49,
   "id": "7419d63f",
   "metadata": {},
   "outputs": [
    {
     "data": {
      "text/plain": [
       "Ttest_indResult(statistic=13.619583634157859, pvalue=5.389322291395478e-42)"
      ]
     },
     "execution_count": 49,
     "metadata": {},
     "output_type": "execute_result"
    }
   ],
   "source": [
    "#Null Hypothesis: Mean Weekly Sales of Type A Store = Mean Weekly Sales of Type B Store\n",
    "\n",
    "mean_test_ttest = sps.ttest_ind(sds_storeA.Weekly_Sales, sds_storeB.Weekly_Sales, equal_var=False) \n",
    "mean_test_ttest\n"
   ]
  },
  {
   "cell_type": "code",
   "execution_count": 50,
   "id": "da98cfb7",
   "metadata": {},
   "outputs": [
    {
     "data": {
      "text/plain": [
       "SignificanceResult(statistic=0.05643829628694582, pvalue=1.929408486911924e-36)"
      ]
     },
     "execution_count": 50,
     "metadata": {},
     "output_type": "execute_result"
    }
   ],
   "source": [
    "correlation_test_spearman = sps.spearmanr(sds['Store_Size'], sds['Weekly_Sales'])\n",
    "correlation_test_spearman"
   ]
  },
  {
   "cell_type": "markdown",
   "id": "67895a8a",
   "metadata": {
    "deletable": false,
    "editable": false
   },
   "source": [
    "### Part D : Report on Data Analysis"
   ]
  },
  {
   "cell_type": "markdown",
   "id": "3270c82e",
   "metadata": {},
   "source": [
    "1) There are 39,708 stores of Type B and 10,113 stores of Type A\n",
    "2) 93% of the total sales happen on a holiday while only 7% of the sales happen on a working day\n",
    "3) Store number 10 has the maximum weekly sales while store number 15 has the minimum weekly sales among all the stores in the given dataset.\n",
    "4) Department number 72 has the maximum weekly sales, followed by department number 38, 95,2 and 40 respectively.\n",
    "5) Department number 43 has the minimum weekly sales, followed by department number 78, 47, 51 and 77 respectively.\n",
    "6) On an average, the store size of Type B store is 60.35% more than that of Type A store\n",
    "7) Store no. 10 generated the maximum average revenue (26,332.30)\n",
    "8) Since the p-value is < 0.05, Weekly Sales is not normally distributed.\n",
    "9) Since the p-value is > 0.05, we fail to reject the null hypothesis and thus the Mean Weekly Sales of Type A Store = Mean Weekly Sales of Type B Store.\n",
    "10) Since the correlation coefficient (0.0564) is close to 1, this tells us that there is medium positive association between the two variables. It is not a strong correlation s it is not > 0.8. The corresponding p-value (1.929) is more than .05, we conclude that there is not a statistically significant association between the two variables.\n",
    "\n",
    "**MANAGERIAL IMPLICATION**\n",
    "1) Sales and Marketing Strategy: The data suggests that most of the sales happen on holidays, so companies can develop sales and marketing strategies targeting holidays to increase sales. They can also analyze the sales pattern and develop a sales and marketing plan based on the sales trend.\n",
    "\n",
    "2) Store Performance: The data can help companies identify the top-performing and underperforming stores. They can identify the reasons behind the performance and take appropriate actions to improve the performance of underperforming stores.\n",
    "\n",
    "3) Store Size: The data shows that the store size of Type B stores is 60.35% more than that of Type A stores. Companies can use this data to develop a store size optimization plan to improve sales.\n",
    "\n",
    "4) Sales Forecasting: The data suggests that weekly sales are not normally distributed. Companies can use statistical methods to forecast sales based on past sales data.\n"
   ]
  },
  {
   "cell_type": "markdown",
   "id": "5dc574cf",
   "metadata": {
    "deletable": false,
    "editable": false
   },
   
  }
 ],
 "metadata": {
  "kernelspec": {
   "display_name": "Python 3 (ipykernel)",
   "language": "python",
   "name": "python3"
  },
  "language_info": {
   "codemirror_mode": {
    "name": "ipython",
    "version": 3
   },
   "file_extension": ".py",
   "mimetype": "text/x-python",
   "name": "python",
   "nbconvert_exporter": "python",
   "pygments_lexer": "ipython3",
   "version": "3.9.16"
  }
 },
 "nbformat": 4,
 "nbformat_minor": 5
}
